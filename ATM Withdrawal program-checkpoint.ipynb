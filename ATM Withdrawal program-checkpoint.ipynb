{
 "cells": [
  {
   "cell_type": "code",
   "execution_count": null,
   "id": "ab84251d-bc3b-4936-b837-d9db1f7d870f",
   "metadata": {},
   "outputs": [],
   "source": []
  },
  {
   "cell_type": "code",
   "execution_count": null,
   "id": "690fafc3-1f7d-45dd-b095-796c6fc861fc",
   "metadata": {},
   "outputs": [],
   "source": []
  },
  {
   "cell_type": "code",
   "execution_count": null,
   "id": "4a68df52-ba62-4fe6-87ff-ab1c3343720b",
   "metadata": {},
   "outputs": [
    {
     "name": "stdin",
     "output_type": "stream",
     "text": [
      "Enter your account number :  112233445566\n"
     ]
    },
    {
     "name": "stdout",
     "output_type": "stream",
     "text": [
      "Your account number is correct\n"
     ]
    },
    {
     "name": "stdin",
     "output_type": "stream",
     "text": [
      "Enter your ATM pin :  1010\n"
     ]
    },
    {
     "name": "stdout",
     "output_type": "stream",
     "text": [
      "Your ATM pin is correct\n"
     ]
    },
    {
     "name": "stdin",
     "output_type": "stream",
     "text": [
      "Enter your account type :  Savings\n"
     ]
    },
    {
     "name": "stdout",
     "output_type": "stream",
     "text": [
      "Your account type is correct\n"
     ]
    },
    {
     "name": "stdin",
     "output_type": "stream",
     "text": [
      "Enter your mobile number :  9826203239\n"
     ]
    },
    {
     "name": "stdout",
     "output_type": "stream",
     "text": [
      "Your mobile number is correct and your balance is :  10000\n"
     ]
    }
   ],
   "source": [
    "\n",
    "\n",
    "cust_details = {\"Account_number\":112233445566, \"ATM_pin\":1010, \"Account_type\":\"Savings\", \"Balance\":10000, \"Mobile_number\":9826203239}\n",
    "\n",
    "acc_num = int(input(\"Enter your account number : \"))\n",
    "\n",
    "if acc_num == cust_details[\"Account_number\"]:\n",
    "    print(\"Your account number is correct\")\n",
    "    atm_pin = int(input(\"Enter your ATM pin : \"))\n",
    "   \n",
    "    if atm_pin == cust_details[\"ATM_pin\"]:\n",
    "        print(\"Your ATM pin is correct\")\n",
    "        acc_type = input(\"Enter your account type : \")\n",
    "       \n",
    "        if acc_type == cust_details[\"Account_type\"]:\n",
    "            print(\"Your account type is correct\")\n",
    "            mob_num = int(input(\"Enter your mobile number : \"))\n",
    "           \n",
    "            if mob_num == cust_details[\"Mobile_number\"]:\n",
    "                print(\"Your mobile number is correct and your balance is : \", cust_details[\"Balance\"])\n",
    "                with_amt = int(input(\"Enter your amount : \"))\n",
    "               \n",
    "                if with_amt > cust_details[\"Balance\"]:\n",
    "                    print(\"Please enter correct amount\")\n",
    "                   \n",
    "                elif with_amt <= cust_details[\"Balance\"]:\n",
    "                    print(\"Please collect your amount :\", with_amt)\n",
    "                    cust_details[\"Balance\"] -= with_amt\n",
    "                    print(\"Your remaining balance is:\", cust_details[\"Balance\"])\n",
    "               \n",
    "               \n",
    "            else:\n",
    "                print(\"Wrong mobile number\")\n",
    "           \n",
    "        else:\n",
    "            print(\"Wrong account type\")\n",
    "                 \n",
    "    else:\n",
    "        print(\"Wrong ATM pin\")\n",
    "       \n",
    "else:\n",
    "    print(\"wrong account number\")"
   ]
  },
  {
   "cell_type": "code",
   "execution_count": null,
   "id": "0d9a0181-bfb9-40b7-8674-9c38429f8d74",
   "metadata": {},
   "outputs": [],
   "source": []
  },
  {
   "cell_type": "code",
   "execution_count": null,
   "id": "1b9319fc-2f16-4dd4-9803-591776d7049b",
   "metadata": {},
   "outputs": [],
   "source": []
  },
  {
   "cell_type": "code",
   "execution_count": null,
   "id": "ce72c8bb-d5df-4a30-9d44-06680465ca17",
   "metadata": {},
   "outputs": [],
   "source": []
  }
 ],
 "metadata": {
  "kernelspec": {
   "display_name": "Python 3 (ipykernel)",
   "language": "python",
   "name": "python3"
  },
  "language_info": {
   "codemirror_mode": {
    "name": "ipython",
    "version": 3
   },
   "file_extension": ".py",
   "mimetype": "text/x-python",
   "name": "python",
   "nbconvert_exporter": "python",
   "pygments_lexer": "ipython3",
   "version": "3.11.7"
  }
 },
 "nbformat": 4,
 "nbformat_minor": 5
}

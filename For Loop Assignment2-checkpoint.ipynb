{
 "cells": [
  {
   "cell_type": "code",
   "execution_count": 1,
   "id": "9512803d-9772-4e37-af0e-d249a48ae6b8",
   "metadata": {},
   "outputs": [],
   "source": [
    "###Loop Assignment###"
   ]
  },
  {
   "cell_type": "code",
   "execution_count": 3,
   "id": "6b4fa1f3-8e06-4eaf-acbe-1b4e8656669c",
   "metadata": {},
   "outputs": [
    {
     "name": "stdout",
     "output_type": "stream",
     "text": [
      "1\n",
      "2\n",
      "3\n",
      "4\n",
      "5\n",
      "6\n",
      "7\n",
      "8\n",
      "9\n",
      "10\n"
     ]
    }
   ],
   "source": [
    "###Question 1: Write a Python program to print all the numbers from 1 to 10 using a for loop.\n",
    "\n",
    "for i in range(1,11,1):\n",
    "    print(i)"
   ]
  },
  {
   "cell_type": "code",
   "execution_count": 29,
   "id": "c46cafd5-8529-49cd-9ac6-2d38faf37332",
   "metadata": {},
   "outputs": [
    {
     "name": "stdout",
     "output_type": "stream",
     "text": [
      "1\n",
      "3\n",
      "6\n",
      "10\n",
      "15\n",
      "21\n",
      "28\n",
      "36\n",
      "45\n"
     ]
    }
   ],
   "source": [
    "###Question 2: Write a Python program to find the sum of all numbers from 1 to 100 using a for loop.\n",
    "sum = 0\n",
    "for i in range(1,10,1):\n",
    "    sum = sum+i\n",
    "    print(sum)"
   ]
  },
  {
   "cell_type": "code",
   "execution_count": 5,
   "id": "826a273c-e2b0-4c67-a003-5de86d6f2f9f",
   "metadata": {},
   "outputs": [
    {
     "name": "stdout",
     "output_type": "stream",
     "text": [
      "RajPatel@gmail.com\n",
      "PriyaSharma@gmail.com\n",
      "AmitKumar@gmail.com\n",
      "NehaSingh@gmail.com\n"
     ]
    }
   ],
   "source": [
    "\n",
    "\n",
    "\n",
    "indian_employees = [[\"Raj\", \"Patel\"], [\"Priya\", \"Sharma\"],[\"Amit\", \"Kumar\"],[\"Neha\", \"Singh\"]]\n",
    "\n",
    "for sublist in indian_employees:\n",
    "    \n",
    "    firstname = sublist[0]\n",
    "    lastname = sublist[1]\n",
    "    domain = \"@gmail.com\"\n",
    "    \n",
    "    print(firstname + lastname + domain)\n"
   ]
  },
  {
   "cell_type": "code",
   "execution_count": null,
   "id": "1faadf09-24cb-4bf2-b16c-eae193c401c6",
   "metadata": {},
   "outputs": [],
   "source": [
    "###Question 3: Write a Python program to print the multiplication table of a given number using a for loop.\n",
    "\n",
    "num = int(input(\"Please Enter your number : \"))\n",
    "\n",
    "for i in range(1,11):\n",
    "    print(num,\"X\",i, \"=\", num*i)"
   ]
  },
  {
   "cell_type": "code",
   "execution_count": 9,
   "id": "91c6cefc-f0ea-421e-ad1e-f9502fddfa65",
   "metadata": {},
   "outputs": [
    {
     "name": "stdout",
     "output_type": "stream",
     "text": [
      "Count of even numbers is : 5\n",
      "Count of odd numbers is : 5\n"
     ]
    }
   ],
   "source": [
    "####Question 4: Write a Python program to count the number of \n",
    "## even and odd numbers from a series of numbers using a for loop.\n",
    "\n",
    "#list: [1, 2, 3, 4, 5, 6, 7, 8, 9, 10]\n",
    "#\n",
    "#even_count, odd_count = 0, 0\n",
    "#\n",
    "#for item in list:\n",
    "#    if item%2 == 0:\n",
    "#        even_count +=1\n",
    "#        print(\"Even number from the list\" ,even_count)\n",
    "#    else:\n",
    "#        odd_count +=1\n",
    "#        print(\"Odd number from the list\" ,odd_count)#\n",
    "list2 = [1, 2, 3, 4, 5, 6, 7, 8, 9, 10]\n",
    "\n",
    "even_count, odd_count = 0, 0\n",
    "\n",
    "for i in list2:\n",
    "    \n",
    "    if i % 2 == 0:\n",
    "        even_count += 1\n",
    "        \n",
    "    else:\n",
    "        odd_count += 1\n",
    "        \n",
    "print(\"Count of even numbers is :\", even_count)\n",
    "print(\"Count of odd numbers is :\", odd_count)"
   ]
  },
  {
   "cell_type": "markdown",
   "id": "3f207a64-0cb2-4779-9f37-fc22e374caa6",
   "metadata": {},
   "source": [
    "Question 5: Write a Python program to find the factorial of a number using a for loop."
   ]
  },
  {
   "cell_type": "code",
   "execution_count": 1,
   "id": "12a95193-0ba2-40af-bfee-112955bc38eb",
   "metadata": {},
   "outputs": [
    {
     "name": "stdin",
     "output_type": "stream",
     "text": [
      "Enter a number:  5\n"
     ]
    },
    {
     "name": "stdout",
     "output_type": "stream",
     "text": [
      "Factorial of the given number is:  120\n"
     ]
    }
   ],
   "source": [
    "n = int (input (\"Enter a number: \"))\n",
    "factorial = 1\n",
    "if n >= 1:\n",
    "    for i in range (1, n+1):\n",
    "        factorial=factorial *i\n",
    "print(\"Factorial of the given number is: \", factorial)"
   ]
  },
  {
   "cell_type": "markdown",
   "id": "0562c18e-99db-4abd-b5fa-e416162c4c64",
   "metadata": {},
   "source": [
    "Question 6: Write a Python program to print the Fibonacci sequence up to a specified number\n",
    "using a for loop."
   ]
  },
  {
   "cell_type": "code",
   "execution_count": 14,
   "id": "3751cdb0-da0d-4636-87de-766920e3757d",
   "metadata": {},
   "outputs": [
    {
     "name": "stdout",
     "output_type": "stream",
     "text": [
      "0\n",
      "1\n",
      "1\n",
      "2\n",
      "3\n",
      "5\n",
      "8\n",
      "13\n",
      "21\n",
      "34\n",
      "55\n",
      "89\n"
     ]
    }
   ],
   "source": [
    "#Fibonacci sequence\n",
    "#xn=xn-1+ xn-2 (where 'n' is the term number)\n",
    "\n",
    "first = 0\n",
    "second = 1\n",
    "print(first)\n",
    "print(second)\n",
    "for x in range(0, 10):\n",
    "    third = first+second\n",
    "    print(third)\n",
    "    first, second = second,third\n",
    "    "
   ]
  },
  {
   "cell_type": "markdown",
   "id": "7f88514c-da5b-44b8-b75c-74330078098b",
   "metadata": {},
   "source": [
    "Question 7: Write a Python program to check if a given number is prime or not using a for loop."
   ]
  },
  {
   "cell_type": "code",
   "execution_count": 44,
   "id": "c55d89c6-d450-4e87-9cbc-f2577ad74d72",
   "metadata": {},
   "outputs": [
    {
     "name": "stdin",
     "output_type": "stream",
     "text": [
      "Enter a number 11\n"
     ]
    },
    {
     "name": "stdout",
     "output_type": "stream",
     "text": [
      "11 number is prime\n"
     ]
    }
   ],
   "source": [
    "number = int(input(\"Enter a number\"))\n",
    "\n",
    "if number >1:\n",
    "    for i in range(2, number):\n",
    "        if number%i == 0:\n",
    "                print(number, \"number is not prime\")\n",
    "                break\n",
    "    else:\n",
    "                print(number, \"number is prime\")\n",
    "\n",
    "else:\n",
    "    print(number, \"number is not prime\")\n",
    "            "
   ]
  },
  {
   "cell_type": "markdown",
   "id": "2c91b594-186e-4bfb-839b-2279eed41d74",
   "metadata": {},
   "source": [
    "Question 8: Write a Python program to find the largest element in a list using a for loop."
   ]
  },
  {
   "cell_type": "code",
   "execution_count": 49,
   "id": "bb417229-6478-4cbf-8242-d537ecef18b5",
   "metadata": {},
   "outputs": [
    {
     "name": "stdout",
     "output_type": "stream",
     "text": [
      "largest number: 145\n"
     ]
    }
   ],
   "source": [
    "your_list = [1, 12, 34, 26, 29, 48, 56, 32, 15, 17, 100, 123, 121, 145]\n",
    "largest_num = 0\n",
    "\n",
    "for i in your_list:     \n",
    "    \n",
    "    if i > largest_num:\n",
    "        largest_num = i \n",
    "        \n",
    "print(\"largest number:\",largest_num)"
   ]
  },
  {
   "cell_type": "markdown",
   "id": "46999d80-f876-4655-802e-a0e5a432f40f",
   "metadata": {},
   "source": [
    "Question 9: Write a Python program to reverse a given string using a for loop."
   ]
  },
  {
   "cell_type": "code",
   "execution_count": 2,
   "id": "7017bc37-7219-4042-b957-d061bb045bb0",
   "metadata": {},
   "outputs": [
    {
     "data": {
      "text/plain": [
       "'olleh'"
      ]
     },
     "execution_count": 2,
     "metadata": {},
     "output_type": "execute_result"
    }
   ],
   "source": [
    "def reverse(text):\n",
    "    rev_text = \"\"\n",
    "    for char in text:\n",
    "        rev_text = char + rev_text\n",
    "    return rev_text\n",
    "\n",
    "reverse(\"hello\")"
   ]
  },
  {
   "cell_type": "markdown",
   "id": "90881cb6-f9b9-434f-9c85-306e2da6b3c5",
   "metadata": {},
   "source": [
    "Question 10: Write a Python program to find the common elements between two lists using a\n",
    "for loop.\n",
    "List1 = [1,2,3]\n",
    "List2 = [4,5,1]"
   ]
  },
  {
   "cell_type": "code",
   "execution_count": 5,
   "id": "71d4c089-fe01-41e4-b01c-ec7c39390c5a",
   "metadata": {},
   "outputs": [
    {
     "name": "stdout",
     "output_type": "stream",
     "text": [
      "[1]\n"
     ]
    }
   ],
   "source": [
    "list1 = [1,2,3]\n",
    "list2 = [4,5,1]\n",
    "common_list = []\n",
    " \n",
    "for num in list1:\n",
    "    \n",
    "    if num in list2:\n",
    "        \n",
    "        common_list.append(num)\n",
    "\n",
    "print(common_list)"
   ]
  },
  {
   "cell_type": "code",
   "execution_count": null,
   "id": "803bc263-c06d-469e-9f9f-d0066ba1fb8d",
   "metadata": {},
   "outputs": [],
   "source": []
  }
 ],
 "metadata": {
  "kernelspec": {
   "display_name": "Python 3 (ipykernel)",
   "language": "python",
   "name": "python3"
  },
  "language_info": {
   "codemirror_mode": {
    "name": "ipython",
    "version": 3
   },
   "file_extension": ".py",
   "mimetype": "text/x-python",
   "name": "python",
   "nbconvert_exporter": "python",
   "pygments_lexer": "ipython3",
   "version": "3.11.7"
  }
 },
 "nbformat": 4,
 "nbformat_minor": 5
}

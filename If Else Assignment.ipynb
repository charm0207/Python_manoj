{
 "cells": [
  {
   "cell_type": "code",
   "execution_count": null,
   "id": "eeb66dff-daba-44c1-bc03-c6b58eb589b0",
   "metadata": {},
   "outputs": [],
   "source": [
    "###Q1. Write a program to calculate the electricity bill\n",
    "###using only if statement? (accept number of unit from user)\n",
    "####according to the following criteria:\n",
    "\n",
    "###Unit Price\n",
    "###First 100 units no charge\n",
    "###Next 100 units Rs 5 per unit\n",
    "###After 200 units Rs 10 per unit\n",
    "\n",
    "unit = int(input(\"Enter your unit: \"))\n",
    "\n",
    "\n",
    "if unit<100:\n",
    "    print(\"Your Electricity bill is Zero\")\n",
    "  \n",
    "elif unit > 100 and unit < 200:\n",
    "      rs = (unit-100)*5\n",
    "      print(\"Your Electricity bill is: \", rs)\n",
    "\n",
    "elif unit>200:\n",
    "      rs = 500+(unit-200)*10\n",
    "      print(\"Your Electricity bill is: \", rs)"
   ]
  },
  {
   "cell_type": "code",
   "execution_count": 3,
   "id": "4ec30459-1272-4e0a-8537-126031b89120",
   "metadata": {},
   "outputs": [
    {
     "name": "stdin",
     "output_type": "stream",
     "text": [
      "Enter your Marks:  70\n"
     ]
    },
    {
     "name": "stdout",
     "output_type": "stream",
     "text": [
      "Your Grade is: C\n"
     ]
    }
   ],
   "source": [
    "####Q2. Write a program to accept percentage from the user and display the grade according to the following criteria:\n",
    "\n",
    "###Marks Grade\n",
    "### > 90 A\n",
    "### > 80 and <= 90 B\n",
    "### >= 60 and <= 80 C\n",
    "#### below 60 D\n",
    "\n",
    "\n",
    "Marks = int(input(\"Enter your Marks: \"))\n",
    "\n",
    "if Marks>90:\n",
    "    print(\"Your Grade is: A\")\n",
    "elif Marks>=80 and Marks<=90:\n",
    "        print(\"Your Grade is: B\")\n",
    "\n",
    "elif Marks>=60 and Marks<=80:\n",
    "        print(\"Your Grade is: C\")\n",
    "    \n",
    "elif Marks<60:\n",
    "         print(\"Your Grade is: D\")\n",
    "    "
   ]
  },
  {
   "cell_type": "code",
   "execution_count": 9,
   "id": "43915574-0a37-4ed7-9f92-c3c8185f5f64",
   "metadata": {},
   "outputs": [
    {
     "name": "stdin",
     "output_type": "stream",
     "text": [
      "Enter your age:  34\n",
      "Enter your age:  45\n",
      "Enter your age:  23\n",
      "Enter your age:  36\n"
     ]
    },
    {
     "name": "stdout",
     "output_type": "stream",
     "text": [
      "The youngest one is: 23\n"
     ]
    }
   ],
   "source": [
    "##Q3. Accept the age of 4 people and display the youngest one?\n",
    "\n",
    "Manoj = int(input(\"Enter your age: \"))\n",
    "Kartikay = int(input(\"Enter your age: \"))\n",
    "Ramesh = int(input(\"Enter your age: \"))\n",
    "Suresh = int(input(\"Enter your age: \"))\n",
    "\n",
    "youngest_one = min(Manoj, Kartikay, Ramesh, Suresh)\n",
    "print(\"The youngest one is:\", youngest_one)"
   ]
  },
  {
   "cell_type": "code",
   "execution_count": null,
   "id": "0ffbfb7e-f219-4295-bd6e-12675ff2ccd4",
   "metadata": {},
   "outputs": [],
   "source": [
    "###Q4. A company decided to give bonus to employee\n",
    "###according to following criteria:\n",
    "\n",
    "###Time period of Service Bonus\n",
    "\n",
    "###More than 10 years 10%\n",
    "\n",
    "###>=6 and <=10 8%\n",
    "\n",
    "###Less than 6 years 5%\n",
    "\n",
    "### Ask user for their salary and years of service and print the net bonus amount?\n",
    "\n",
    "salary = int(input(\"Enter Your Salary\"))\n",
    "Service = int(input(\"Enter Your Year of Service\"))\n",
    "\n",
    "if Service>10:\n",
    "    rs = salary/100*10\n",
    "    print(\"Your net bonus amount: \", rs)\n",
    "\n",
    "elif Service>=6 and Service<=10:\n",
    "    rs = salary/100*8\n",
    "    print(\"Your net bonus amount: \", rs)\n",
    "\n",
    "elif Service<6:\n",
    "    rs = salary/100*5\n",
    "    print(\"Your net bonus amount: \", rs)\n",
    "else:\n",
    "    print(\"your net bonus amount is 0\")"
   ]
  },
  {
   "cell_type": "code",
   "execution_count": null,
   "id": "d2d515ab-75d8-4beb-85f3-28d83edae8b8",
   "metadata": {},
   "outputs": [],
   "source": [
    "###Q5. Accept three numbers from the user and display the second largest number?\n",
    "\n",
    "num_1 = int(input(\"Enter the first number : \"))\n",
    "num_2 = int(input(\"Enter the second number : \"))\n",
    "num_3 = int(input(\"Enter the third number : \"))\n",
    "\n",
    "if num_1 > num_2 and num_2 > num_3:\n",
    "    print(\"The second largest number is : \", num_2)\n",
    "    \n",
    "elif num_2 > num_1 and num_1 > num_3:\n",
    "    print(\"The second largest number is : \", num_1)\n",
    "        \n",
    "elif num_2 > num_3 and num_3 > num_1:\n",
    "    print(\"The second largest number is : \", num_3)\n",
    "            \n",
    "elif num_3 > num_2 and num_2 > num_1:\n",
    "    print(\"The second largest number is : \", num_2)\n",
    "                \n",
    "elif num_3 > num_1 and num_1 > num_2:\n",
    "    print(\"The second largest number is : \", num_1)\n",
    "                    \n",
    "elif num_1 > num_3 and num_3 > num_2:\n",
    "    print(\"The second largest number is : \", num_3)"
   ]
  },
  {
   "cell_type": "code",
   "execution_count": 27,
   "id": "34a480c4-1a8f-4062-865a-d74879341e95",
   "metadata": {},
   "outputs": [
    {
     "name": "stdin",
     "output_type": "stream",
     "text": [
      "Enter your price:  5000\n"
     ]
    },
    {
     "name": "stdout",
     "output_type": "stream",
     "text": [
      "Your Net amount:  4500.0\n"
     ]
    }
   ],
   "source": [
    "###Q6. Accept the marked price from the user and calculate the Net amount as (Marked Price – Discount) to pay according to following criteria:\n",
    "###Marked Price Discount\n",
    "####>10000 20%\n",
    "###>7000 and <=10000 15%\n",
    "####<=7000 10%\n",
    "\n",
    "\n",
    "marked_price = int(input(\"Enter your price: \"))\n",
    "\n",
    "if marked_price > 10000:\n",
    "    Discount = marked_price-(marked_price/100)*20\n",
    "    print(\"Your Net amount: \", Discount)\n",
    "   \n",
    "elif marked_price > 7000 and marked_price <=10000:\n",
    "      Discount = marked_price-(marked_price/100)*15\n",
    "      print(\"Your Net amount: \", Discount)\n",
    "\n",
    "elif marked_price <= 7000:\n",
    "      Discount = marked_price-(marked_price/100)*10\n",
    "      print(\"Your Net amount: \", Discount)"
   ]
  },
  {
   "cell_type": "code",
   "execution_count": 11,
   "id": "f32fdb84-c488-41bd-993f-1cd2ace619cc",
   "metadata": {},
   "outputs": [
    {
     "name": "stdin",
     "output_type": "stream",
     "text": [
      "Enter your English marks:  85\n",
      "Enter your Math marks:  67\n",
      "Enter your Science marks:  55\n",
      "Enter your social studies marks:  67\n"
     ]
    },
    {
     "name": "stdout",
     "output_type": "stream",
     "text": [
      "Commerce Stream\n"
     ]
    }
   ],
   "source": [
    "###Q7. Accept the marks of English, Math and Science, Social Studies Subject and display the stream allotted according to following:\n",
    "\n",
    "###All Subjects more than 80 marks — Science Stream\n",
    "\n",
    "###English >80 and Math, Science above 50 — Commerce Stream\n",
    "\n",
    "###English > 80 and social studies > 80 — Humanities\n",
    "\n",
    "\n",
    "English = int(input(\"Enter your English marks: \"))\n",
    "Math = int(input(\"Enter your Math marks: \"))\n",
    "Science = int(input(\"Enter your Science marks: \"))\n",
    "Social_Studies = int(input(\"Enter your social studies marks: \"))\n",
    "\n",
    "if English >80 and Math > 80 and Science > 80 and Social_Studies > 80:\n",
    "    print(\"Science Stream\")\n",
    "\n",
    "elif English > 80 and Math >60 and Science >50:\n",
    "    print(\"Commerce Stream\")\n",
    "\n",
    "elif English >80 and Social_Studies >80:\n",
    "    print(\"Humanities\")"
   ]
  },
  {
   "cell_type": "code",
   "execution_count": 23,
   "id": "14d0c01b-1a8c-4fa8-8215-308a088a7a1d",
   "metadata": {},
   "outputs": [
    {
     "name": "stdin",
     "output_type": "stream",
     "text": [
      "Enter your Number:  49\n"
     ]
    },
    {
     "name": "stdout",
     "output_type": "stream",
     "text": [
      "Bye\n"
     ]
    }
   ],
   "source": [
    "####Q8. Write a program to display \"Hello\" if a number entered by user is a multiple of five, otherwise print \"Bye\"?\n",
    "\n",
    "Number = int(input(\"Enter your Number: \"))\n",
    "\n",
    "if Number%5==0:\n",
    "    print(\"Hello\")\n",
    "\n",
    "else:\n",
    "    print(\"Bye\")"
   ]
  },
  {
   "cell_type": "code",
   "execution_count": 25,
   "id": "e1b34c47-9e37-4198-b25d-0bb271001410",
   "metadata": {},
   "outputs": [
    {
     "name": "stdin",
     "output_type": "stream",
     "text": [
      "Enter a number: 49\n"
     ]
    },
    {
     "name": "stdout",
     "output_type": "stream",
     "text": [
      "9 is divisible by 3 \n"
     ]
    }
   ],
   "source": [
    "###Q9. Write a program to check whether the last digit of a number (entered by user) is divisible by 3 or not?\n",
    "\n",
    "num=int(input(\"Enter a number:\"))\n",
    "last_digit=num%10\n",
    "if(last_digit%3==0):\n",
    "    print(\"{} is divisible by 3 \".format(last_digit))\n",
    "else:\n",
    "    print(\"{} is not divisible by 3\".format(last_digit))"
   ]
  },
  {
   "cell_type": "code",
   "execution_count": 5,
   "id": "163a5dcb-67a4-47da-9150-e314c1210616",
   "metadata": {},
   "outputs": [
    {
     "name": "stdin",
     "output_type": "stream",
     "text": [
      "Enter your number: 99\n"
     ]
    },
    {
     "name": "stdout",
     "output_type": "stream",
     "text": [
      "99 is not a 3 digit number\n"
     ]
    }
   ],
   "source": [
    "###Q10. Write a program to check whether a number entered is three-digit number or not?\n",
    "\n",
    "num1=int(input(\"Enter your number:\"))\n",
    "if(num1 < 1000 and num1 > 99):\n",
    "    print(\"{} is a 3 digit number \".format(num1))\n",
    "else:\n",
    "    print(\"{} is not a 3 digit number\".format(num1))"
   ]
  },
  {
   "cell_type": "code",
   "execution_count": 1,
   "id": "470e24e1-8135-445b-8a78-8a36795e7da0",
   "metadata": {},
   "outputs": [
    {
     "name": "stdout",
     "output_type": "stream",
     "text": [
      "RajPatel@gmail.com\n",
      "PriyaSharma@gmail.com\n",
      "AmitKumar@gmail.com\n",
      "NehaSingh@gmail.com\n"
     ]
    }
   ],
   "source": [
    "###indian_employees = [[\"Raj\", \"Patel\"], [\"Priya\", \"Sharma\"],[\"Amit\", \"Kumar\"],[\"Neha\", \"Singh\"]]\n",
    "###your have to create an email address for each employee.\n",
    "###Email address should be there firstname+lastname@gmail.com\n",
    "\n",
    "###Expected output:\n",
    "###RajPatel@gmail.com\n",
    "###PriyaSharma@gmail.com\n",
    "\n",
    "\n",
    "indian_employees = [[\"Raj\", \"Patel\"], [\"Priya\", \"Sharma\"],[\"Amit\", \"Kumar\"],[\"Neha\", \"Singh\"]]\n",
    "\n",
    "for sublist in indian_employees:\n",
    "    \n",
    "    firstname = sublist[0]\n",
    "    lastname = sublist[1]\n",
    "    domain = \"@gmail.com\"\n",
    "    \n",
    "    print(firstname + lastname + domain)"
   ]
  },
  {
   "cell_type": "code",
   "execution_count": null,
   "id": "6fa9cdb0-a0b6-452a-9ef2-5973d538b16a",
   "metadata": {},
   "outputs": [],
   "source": []
  }
 ],
 "metadata": {
  "kernelspec": {
   "display_name": "Python 3 (ipykernel)",
   "language": "python",
   "name": "python3"
  },
  "language_info": {
   "codemirror_mode": {
    "name": "ipython",
    "version": 3
   },
   "file_extension": ".py",
   "mimetype": "text/x-python",
   "name": "python",
   "nbconvert_exporter": "python",
   "pygments_lexer": "ipython3",
   "version": "3.11.7"
  }
 },
 "nbformat": 4,
 "nbformat_minor": 5
}

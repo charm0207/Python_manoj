{
 "cells": [
  {
   "cell_type": "markdown",
   "id": "e6b14f04-58ce-41a5-ba3f-16cf897e2e11",
   "metadata": {},
   "source": [
    "1. How do you concatenate two strings in Python?"
   ]
  },
  {
   "cell_type": "code",
   "execution_count": 10,
   "id": "4b63b97d-6462-493b-b455-49ef59dd2861",
   "metadata": {},
   "outputs": [
    {
     "name": "stdout",
     "output_type": "stream",
     "text": [
      "Hellopython\n"
     ]
    }
   ],
   "source": [
    "string1=\"Hello\"\n",
    "string2=\"python\"\n",
    "print(string1 + string2)"
   ]
  },
  {
   "cell_type": "markdown",
   "id": "42bbbffa-209e-42b5-871a-611713c8c000",
   "metadata": {},
   "source": [
    "2. What is the difference between the + operator and the join() method for\n",
    "concatenating strings?"
   ]
  },
  {
   "cell_type": "code",
   "execution_count": 91,
   "id": "f809752c-e1cc-4fa9-84c9-f9e18d0a75f7",
   "metadata": {},
   "outputs": [
    {
     "name": "stdout",
     "output_type": "stream",
     "text": [
      "Hellopython\n",
      "Hellopython\n"
     ]
    }
   ],
   "source": [
    "string1=\"Hello\"\n",
    "string2=\"python\"\n",
    "print(\"\".join([string1, string2]))\n",
    "print(string1 + string2)"
   ]
  },
  {
   "cell_type": "markdown",
   "id": "2b2696a5-855e-4b0d-aa81-187409feb963",
   "metadata": {},
   "source": [
    "3. How do you access individual characters in a string?"
   ]
  },
  {
   "cell_type": "code",
   "execution_count": 20,
   "id": "36047491-6084-400c-8945-e472ec63c454",
   "metadata": {},
   "outputs": [
    {
     "data": {
      "text/plain": [
       "'H'"
      ]
     },
     "execution_count": 20,
     "metadata": {},
     "output_type": "execute_result"
    }
   ],
   "source": [
    "string1[0]"
   ]
  },
  {
   "cell_type": "code",
   "execution_count": 22,
   "id": "8243bd48-6b14-4204-b57f-18cc06f1a8f5",
   "metadata": {},
   "outputs": [
    {
     "data": {
      "text/plain": [
       "'e'"
      ]
     },
     "execution_count": 22,
     "metadata": {},
     "output_type": "execute_result"
    }
   ],
   "source": [
    "string1[1]"
   ]
  },
  {
   "cell_type": "code",
   "execution_count": 24,
   "id": "ef0d3772-2d6b-4d9e-a093-bfeb43a09127",
   "metadata": {},
   "outputs": [
    {
     "data": {
      "text/plain": [
       "'l'"
      ]
     },
     "execution_count": 24,
     "metadata": {},
     "output_type": "execute_result"
    }
   ],
   "source": [
    "string1[2]"
   ]
  },
  {
   "cell_type": "code",
   "execution_count": 26,
   "id": "ed2eca0b-dabf-42ce-8b8e-f2e475c11c35",
   "metadata": {},
   "outputs": [
    {
     "data": {
      "text/plain": [
       "'l'"
      ]
     },
     "execution_count": 26,
     "metadata": {},
     "output_type": "execute_result"
    }
   ],
   "source": [
    "string1[3]"
   ]
  },
  {
   "cell_type": "code",
   "execution_count": 30,
   "id": "9e1f4fc0-5be4-48c2-9463-60559e8cddef",
   "metadata": {},
   "outputs": [
    {
     "data": {
      "text/plain": [
       "'o'"
      ]
     },
     "execution_count": 30,
     "metadata": {},
     "output_type": "execute_result"
    }
   ],
   "source": [
    "string1[4]"
   ]
  },
  {
   "cell_type": "markdown",
   "id": "ed13f3e4-9966-4e4c-b4d6-e83f840511c8",
   "metadata": {},
   "source": [
    "4. What method is used to find the length of a string in Python?"
   ]
  },
  {
   "cell_type": "code",
   "execution_count": 33,
   "id": "af4f8bcd-79aa-47d0-91c3-b77c50ef7bde",
   "metadata": {},
   "outputs": [
    {
     "data": {
      "text/plain": [
       "6"
      ]
     },
     "execution_count": 33,
     "metadata": {},
     "output_type": "execute_result"
    }
   ],
   "source": [
    "len(string2)"
   ]
  },
  {
   "cell_type": "markdown",
   "id": "45a175a1-266b-4f56-bfae-eeed93de9685",
   "metadata": {},
   "source": [
    "5. How can you convert a string to uppercase in Python?"
   ]
  },
  {
   "cell_type": "code",
   "execution_count": 42,
   "id": "26ce1720-693d-4e2f-904d-53f6137cf312",
   "metadata": {},
   "outputs": [
    {
     "name": "stdout",
     "output_type": "stream",
     "text": [
      "HELLO\n",
      "PYTHON\n"
     ]
    }
   ],
   "source": [
    "print(string1.upper())\n",
    "print(string2.upper())"
   ]
  },
  {
   "cell_type": "markdown",
   "id": "a1f26c63-8047-4891-8aa4-f95064bc1d90",
   "metadata": {},
   "source": [
    "6.How can you convert a string to lowercase in Python?"
   ]
  },
  {
   "cell_type": "code",
   "execution_count": 46,
   "id": "4f934156-d982-4bcd-b0d4-2ac234cd9c01",
   "metadata": {},
   "outputs": [
    {
     "name": "stdout",
     "output_type": "stream",
     "text": [
      "python\n"
     ]
    }
   ],
   "source": [
    "var=\"PYTHON\"\n",
    "print(var.lower())"
   ]
  },
  {
   "cell_type": "markdown",
   "id": "22068c02-7616-42d9-88f9-d25f885430f0",
   "metadata": {},
   "source": [
    "7. What method is used to replace substrings within a string?"
   ]
  },
  {
   "cell_type": "code",
   "execution_count": 51,
   "id": "b25775dd-f3a8-4005-8f86-a93dfa98a7ce",
   "metadata": {},
   "outputs": [
    {
     "name": "stdout",
     "output_type": "stream",
     "text": [
      "Java\n"
     ]
    }
   ],
   "source": [
    "string2=\"python\"\n",
    "new_string = string2.replace(\"python\", \"Java\")\n",
    "print(new_string)"
   ]
  },
  {
   "cell_type": "markdown",
   "id": "f999a978-7eb4-4bb9-8787-79e16ebf8d0b",
   "metadata": {},
   "source": [
    "8. How can you split a string into a list of substrings based on a delimiter?"
   ]
  },
  {
   "cell_type": "code",
   "execution_count": 54,
   "id": "81141a29-957f-4768-b380-f079a26ce7e4",
   "metadata": {},
   "outputs": [
    {
     "name": "stdout",
     "output_type": "stream",
     "text": [
      "['Manoj', 'Charolkar']\n"
     ]
    }
   ],
   "source": [
    "string = \"Manoj Charolkar\"\n",
    "print(string.split(\" \"))"
   ]
  },
  {
   "cell_type": "markdown",
   "id": "b981b0c5-75b2-4af2-9666-af4e86139754",
   "metadata": {},
   "source": [
    "9. How do you check if a string starts with a particular substring?"
   ]
  },
  {
   "cell_type": "code",
   "execution_count": 61,
   "id": "6115fddf-9a29-46f8-a78a-e959d21ca570",
   "metadata": {},
   "outputs": [
    {
     "name": "stdout",
     "output_type": "stream",
     "text": [
      "True\n"
     ]
    }
   ],
   "source": [
    "string1 = \"Hello\"\n",
    "print(string1.startswith(\"H\"))"
   ]
  },
  {
   "cell_type": "markdown",
   "id": "62593c10-a395-473e-a44d-2fa2ef39ac21",
   "metadata": {},
   "source": [
    "10. How do you check if a string ends with a particular substring?"
   ]
  },
  {
   "cell_type": "code",
   "execution_count": 66,
   "id": "c5a45592-6e50-4133-a35c-fbf68d788554",
   "metadata": {},
   "outputs": [
    {
     "name": "stdout",
     "output_type": "stream",
     "text": [
      "False\n"
     ]
    }
   ],
   "source": [
    "string1 = \"Hello\"\n",
    "print(string1.endswith(\"H\"))"
   ]
  },
  {
   "cell_type": "markdown",
   "id": "48daea1d-84b7-4bbe-b576-7b583818ed10",
   "metadata": {},
   "source": [
    "11. How can you remove leading and trailing whitespace from a string?"
   ]
  },
  {
   "cell_type": "code",
   "execution_count": 71,
   "id": "f59c0f64-ed8b-493d-a6ab-6bc3d30e841b",
   "metadata": {},
   "outputs": [
    {
     "name": "stdout",
     "output_type": "stream",
     "text": [
      "Hello\n"
     ]
    }
   ],
   "source": [
    "string1 = \"   Hello   \"\n",
    "print(string1.strip())"
   ]
  },
  {
   "cell_type": "markdown",
   "id": "e0b2b40f-1135-4808-8aca-11ff1ff883fb",
   "metadata": {},
   "source": [
    "12. What method is used to find the index of the first occurrence of a substring within a\n",
    "string?"
   ]
  },
  {
   "cell_type": "code",
   "execution_count": 86,
   "id": "d7297b8c-9a09-43c8-a587-34dbcfe753e2",
   "metadata": {},
   "outputs": [
    {
     "name": "stdout",
     "output_type": "stream",
     "text": [
      "12\n"
     ]
    }
   ],
   "source": [
    "my_string = \"Hello Manoj Charolkar\"\n",
    "index = my_string.index('Charolkar')\n",
    "print(index)"
   ]
  },
  {
   "cell_type": "markdown",
   "id": "33c1a4ec-101f-4f76-98ff-b85e89542001",
   "metadata": {},
   "source": [
    "13. How can you count the number of occurrences of a substring within a string?"
   ]
  },
  {
   "cell_type": "code",
   "execution_count": 101,
   "id": "f4b0bfc3-7ec8-474e-b13e-2ce45439aa76",
   "metadata": {},
   "outputs": [
    {
     "name": "stdout",
     "output_type": "stream",
     "text": [
      "2\n"
     ]
    }
   ],
   "source": [
    "string1 = \"Hello\"\n",
    "print(string1.count(\"l\"))"
   ]
  },
  {
   "cell_type": "markdown",
   "id": "729e8b7e-5801-4e91-a165-ffa291c9d12b",
   "metadata": {},
   "source": [
    "14. How do you check if a string contains only alphabetic characters?"
   ]
  },
  {
   "cell_type": "code",
   "execution_count": 106,
   "id": "8af9e2f7-175d-4815-925d-67ddb4befe0c",
   "metadata": {},
   "outputs": [
    {
     "name": "stdout",
     "output_type": "stream",
     "text": [
      "True\n",
      "False\n"
     ]
    }
   ],
   "source": [
    "string1 = \"Hello\"\n",
    "string3 = \"Hello121\"\n",
    "print(string1.isalpha())\n",
    "print(string3.isalpha())"
   ]
  },
  {
   "cell_type": "markdown",
   "id": "6ba201af-9513-4634-8907-788523f40f17",
   "metadata": {},
   "source": [
    "15. How do you check if a string contains only numeric characters?"
   ]
  },
  {
   "cell_type": "code",
   "execution_count": 7,
   "id": "1bd01529-aa57-435f-a309-969a48fe3097",
   "metadata": {},
   "outputs": [
    {
     "name": "stdout",
     "output_type": "stream",
     "text": [
      "False\n",
      "True\n"
     ]
    }
   ],
   "source": [
    "string1 = \"Hello\"\n",
    "string4 = \"121\"\n",
    "print(string1.isnumeric())\n",
    "print(string4.isnumeric())"
   ]
  },
  {
   "cell_type": "markdown",
   "id": "70ee5bf9-7d73-45b5-958c-733fc2c3d61b",
   "metadata": {},
   "source": [
    "16. How can you check if a string is a palindrome?"
   ]
  },
  {
   "cell_type": "code",
   "execution_count": 10,
   "id": "d6d2c34a-560f-44b2-9170-5aeb158ffc68",
   "metadata": {},
   "outputs": [
    {
     "ename": "NameError",
     "evalue": "name 'ispalindrome' is not defined",
     "output_type": "error",
     "traceback": [
      "\u001b[1;31m---------------------------------------------------------------------------\u001b[0m",
      "\u001b[1;31mNameError\u001b[0m                                 Traceback (most recent call last)",
      "Cell \u001b[1;32mIn[10], line 2\u001b[0m\n\u001b[0;32m      1\u001b[0m s \u001b[38;5;241m=\u001b[39m \u001b[38;5;124m\"\u001b[39m\u001b[38;5;124mmalyalam\u001b[39m\u001b[38;5;124m\"\u001b[39m\n\u001b[1;32m----> 2\u001b[0m \u001b[38;5;28mprint\u001b[39m(ispalindrome(\u001b[38;5;124m\"\u001b[39m\u001b[38;5;124ms\u001b[39m\u001b[38;5;124m\"\u001b[39m))\n",
      "\u001b[1;31mNameError\u001b[0m: name 'ispalindrome' is not defined"
     ]
    }
   ],
   "source": [
    "s = \"malyalam\"\n",
    "print(ispalindrome(\"s\"))"
   ]
  },
  {
   "cell_type": "code",
   "execution_count": null,
   "id": "b460a438-c317-40f9-878d-d99e31c5fc0c",
   "metadata": {},
   "outputs": [],
   "source": []
  }
 ],
 "metadata": {
  "kernelspec": {
   "display_name": "Python 3 (ipykernel)",
   "language": "python",
   "name": "python3"
  },
  "language_info": {
   "codemirror_mode": {
    "name": "ipython",
    "version": 3
   },
   "file_extension": ".py",
   "mimetype": "text/x-python",
   "name": "python",
   "nbconvert_exporter": "python",
   "pygments_lexer": "ipython3",
   "version": "3.11.7"
  }
 },
 "nbformat": 4,
 "nbformat_minor": 5
}

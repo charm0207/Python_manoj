{
 "cells": [
  {
   "cell_type": "code",
   "execution_count": 9,
   "id": "3b04717d-89eb-442e-b578-73290097e351",
   "metadata": {},
   "outputs": [
    {
     "name": "stdout",
     "output_type": "stream",
     "text": [
      "your grade is D\n"
     ]
    }
   ],
   "source": [
    "score = 50\n",
    "\n",
    "if score >= 90:\n",
    "    print(\"your grade is A\")\n",
    "\n",
    "elif score>=80:\n",
    "    print(\"your grade is B\")\n",
    "\n",
    "elif score>=70:\n",
    "    print(\"your grade is C\")\n",
    "\n",
    "elif score<60:\n",
    "    print(\"your grade is D\")\n",
    "\n",
    "else:\n",
    "    print(\"You are Fail\")"
   ]
  },
  {
   "cell_type": "code",
   "execution_count": 19,
   "id": "2c7450e5-697d-4270-8235-1fc7f959df01",
   "metadata": {},
   "outputs": [
    {
     "name": "stdin",
     "output_type": "stream",
     "text": [
      "Enter the age of Manoj : 40\n",
      "Enter the age of Vijay : 60\n",
      "Enter the age of Ramesh : 30\n"
     ]
    },
    {
     "name": "stdout",
     "output_type": "stream",
     "text": [
      "The Youngest age is Ramesh\n"
     ]
    }
   ],
   "source": [
    "age1 = int(input(\"Enter the age of Manoj :\"))\n",
    "age2 = int(input(\"Enter the age of Vijay :\"))\n",
    "age3 = int(input(\"Enter the age of Ramesh :\"))\n",
    "\n",
    "if (age1<age2 and age2<age3):\n",
    "    print(\"The youngest age is Manoj\")\n",
    "\n",
    "elif (age2<age1 and age3<age2):\n",
    "    print(\"The youngest age is Vijay\")\n",
    "\n",
    "else:\n",
    "    print(\"The Youngest age is Ramesh\")"
   ]
  },
  {
   "cell_type": "code",
   "execution_count": null,
   "id": "6f044fe0-da7a-4195-91b8-a23c09ccfeac",
   "metadata": {},
   "outputs": [],
   "source": []
  }
 ],
 "metadata": {
  "kernelspec": {
   "display_name": "Python 3 (ipykernel)",
   "language": "python",
   "name": "python3"
  },
  "language_info": {
   "codemirror_mode": {
    "name": "ipython",
    "version": 3
   },
   "file_extension": ".py",
   "mimetype": "text/x-python",
   "name": "python",
   "nbconvert_exporter": "python",
   "pygments_lexer": "ipython3",
   "version": "3.11.7"
  }
 },
 "nbformat": 4,
 "nbformat_minor": 5
}

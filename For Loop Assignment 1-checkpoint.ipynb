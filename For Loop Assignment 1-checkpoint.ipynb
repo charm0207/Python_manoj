{
 "cells": [
  {
   "cell_type": "code",
   "execution_count": 2,
   "id": "4f58b986-2c65-4c18-9ab4-342f3bded079",
   "metadata": {},
   "outputs": [
    {
     "name": "stdout",
     "output_type": "stream",
     "text": [
      "RajPatel@gmail.com\n",
      "PriyaSharma@gmail.com\n",
      "AmitKumar@gmail.com\n",
      "NehaSingh@gmail.com\n"
     ]
    }
   ],
   "source": [
    "###indian_employees = [[\"Raj\", \"Patel\"], [\"Priya\", \"Sharma\"],[\"Amit\", \"Kumar\"],[\"Neha\", \"Singh\"]]\n",
    "###your have to create an email address for each employee.\n",
    "###Email address should be there firstname+lastname@gmail.com\n",
    "\n",
    "###Expected output:\n",
    "###RajPatel@gmail.com\n",
    "###PriyaSharma@gmail.com\n",
    "\n",
    "\n",
    "indian_employees = [[\"Raj\", \"Patel\"], [\"Priya\", \"Sharma\"],[\"Amit\", \"Kumar\"],[\"Neha\", \"Singh\"]]\n",
    "\n",
    "for sublist in indian_employees:\n",
    "    \n",
    "    firstname = sublist[0]\n",
    "    lastname = sublist[1]\n",
    "    domain = \"@gmail.com\"\n",
    "    \n",
    "    print(firstname + lastname + domain)"
   ]
  },
  {
   "cell_type": "code",
   "execution_count": null,
   "id": "0efac4c3-10f6-4884-af39-bf3cfb13c649",
   "metadata": {},
   "outputs": [],
   "source": []
  }
 ],
 "metadata": {
  "kernelspec": {
   "display_name": "Python 3 (ipykernel)",
   "language": "python",
   "name": "python3"
  },
  "language_info": {
   "codemirror_mode": {
    "name": "ipython",
    "version": 3
   },
   "file_extension": ".py",
   "mimetype": "text/x-python",
   "name": "python",
   "nbconvert_exporter": "python",
   "pygments_lexer": "ipython3",
   "version": "3.11.7"
  }
 },
 "nbformat": 4,
 "nbformat_minor": 5
}

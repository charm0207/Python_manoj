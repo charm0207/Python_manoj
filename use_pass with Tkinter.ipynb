{
 "cells": [
  {
   "cell_type": "code",
   "execution_count": 39,
   "id": "34532336-92f7-4f22-8400-3697ac80d99c",
   "metadata": {},
   "outputs": [],
   "source": [
    "import tkinter as tk\n",
    "from tkinter import messagebox\n",
    "import webbrowser"
   ]
  },
  {
   "cell_type": "code",
   "execution_count": 49,
   "id": "a8dc3a35-d1ed-489c-8767-80b7b76997b1",
   "metadata": {},
   "outputs": [],
   "source": [
    "def input_taker():\n",
    "    username = username_entry.get()\n",
    "    password = password_entry.get()\n",
    "    with open(r\"C:\\Users\\hp\\Desktop\\New folder (3)\\Manoj.txt.txt\") as file:\n",
    "        content = file.readlines()\n",
    "        username_from_file = content[0].split(\":\")[1][:-1]\n",
    "        password_from_file = content[1].split(\":\")[1]\n",
    "        if username == username_from_file and password == password_from_file:\n",
    "            webbrowser.open(\"www.google.com\")\n",
    "\n",
    "        else:\n",
    "            messagebox.showinfo(\"Permission Denied\",\"Please Check Your username and password\")\n",
    "\n",
    "\n",
    "\n",
    "\n",
    "root = tk.Tk()\n",
    "\n",
    "root.geometry(\"500x500\")\n",
    "root.title(\"Login Form\")\n",
    "\n",
    "username_label = tk.Label(root, text = \"Username:\")\n",
    "username_label.grid(row = 0, column = 1)\n",
    "\n",
    "password_label = tk.Label(root, text = \"password:\")\n",
    "password_label.grid(row = 1, column = 1)\n",
    "\n",
    "username_entry = tk.Entry(root)\n",
    "username_entry.grid(row = 0, column = 2)\n",
    "\n",
    "password_entry = tk.Entry(root)\n",
    "password_entry.grid(row = 1, column = 2)\n",
    "\n",
    "button = tk.Button(root, text = \"Submit\", background = \"lightgreen\", command = input_taker)\n",
    "button.grid(row = 2, column = 2, padx = 15, pady = 15)\n",
    "\n",
    "root.mainloop()"
   ]
  },
  {
   "cell_type": "code",
   "execution_count": null,
   "id": "212b066b-55cb-4568-ab18-13d8a8192c5d",
   "metadata": {},
   "outputs": [],
   "source": []
  },
  {
   "cell_type": "markdown",
   "id": "3e515d94-98e8-4fa6-abb3-bfc32e9a184a",
   "metadata": {},
   "source": []
  }
 ],
 "metadata": {
  "kernelspec": {
   "display_name": "Python 3 (ipykernel)",
   "language": "python",
   "name": "python3"
  },
  "language_info": {
   "codemirror_mode": {
    "name": "ipython",
    "version": 3
   },
   "file_extension": ".py",
   "mimetype": "text/x-python",
   "name": "python",
   "nbconvert_exporter": "python",
   "pygments_lexer": "ipython3",
   "version": "3.11.7"
  }
 },
 "nbformat": 4,
 "nbformat_minor": 5
}
